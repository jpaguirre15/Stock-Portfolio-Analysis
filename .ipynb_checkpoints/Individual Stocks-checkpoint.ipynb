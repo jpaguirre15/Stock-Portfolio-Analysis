{
 "cells": [
  {
   "cell_type": "code",
   "execution_count": null,
   "metadata": {},
   "outputs": [],
   "source": [
    "# Libraries Used \n",
    "import pandas as pd\n",
    "import numpy as np \n",
    "import matplotlib.pyplot as plt\n",
    "import seaborn as sns\n",
    "\n",
    "import robin_stocks as r \n",
    "import pyotp\n",
    "\n",
    "from pandas_datareader import data as wb\n",
    "\n",
    "# Magic\n",
    "%matplotlib inline"
   ]
  },
  {
   "cell_type": "code",
   "execution_count": null,
   "metadata": {},
   "outputs": [],
   "source": [
    "# Collect historical prices by Yahoo! Finance est. 2000 \n",
    "tickers = ['HAL', 'SLB', 'DVN', 'COP', 'NOV', 'BKR', 'XOM', 'DAL',]\n",
    "start_date = '2000-01-01'\n",
    "historical_data = pd.DataFrame()\n",
    "for t in tickers:\n",
    "    historical_data[t] = wb.DataReader(t, data_source='yahoo', start=start_date)['Adj Close']"
   ]
  },
  {
   "cell_type": "code",
   "execution_count": null,
   "metadata": {},
   "outputs": [],
   "source": [
    "# Remove all rows that includes NaN values\n",
    "# Check if all columns match and are float variables\n",
    "historical_data = historical_data.dropna()\n",
    "historical_data.info()"
   ]
  },
  {
   "cell_type": "code",
   "execution_count": null,
   "metadata": {},
   "outputs": [],
   "source": [
    "historical_data.head()"
   ]
  },
  {
   "cell_type": "code",
   "execution_count": null,
   "metadata": {},
   "outputs": [],
   "source": [
    "historical_data.tail()"
   ]
  },
  {
   "cell_type": "code",
   "execution_count": null,
   "metadata": {},
   "outputs": [],
   "source": [
    "# Calculate log returns of each companies \n",
    "# Check if all columns match and are float variables\n",
    "returns = np.log(historical_data/historical_data.shift(1))\n",
    "returns.info()"
   ]
  },
  {
   "cell_type": "code",
   "execution_count": null,
   "metadata": {},
   "outputs": [],
   "source": [
    "returns.head()"
   ]
  },
  {
   "cell_type": "code",
   "execution_count": null,
   "metadata": {},
   "outputs": [],
   "source": [
    "returns.tail()"
   ]
  },
  {
   "cell_type": "code",
   "execution_count": null,
   "metadata": {},
   "outputs": [],
   "source": [
    "# Create a table for Daily and Annual Risk Returns \n",
    "# Daily mean formula: daily_mean = returns.mean()\n",
    "# Daily stdv formula: daily_mean = returns.std()\n",
    "# Annual mean formula: annual_mean = returns.mean()*250\n",
    "# Annual stdv formula: annual_mean = returns.std()*250 ** .5\n",
    "\n",
    "daily_mean = []\n",
    "daily_stdv = []\n",
    "\n",
    "annual_mean = []\n",
    "annual_stdv = []\n",
    "\n",
    "for t in tickers:\n",
    "    daily_mean.append(round(returns[t].mean()*100, 2))\n",
    "    daily_stdv.append(round(returns[t].std()*100, 2))\n",
    "    \n",
    "    annual_mean.append(round((returns[t].mean()*250)*100, 2))\n",
    "    annual_stdv.append(round((returns[t].std()*250**.5)*100, 2))\n",
    "\n",
    "daily_mean = np.array(daily_mean)\n",
    "daily_stdv = np.array(daily_stdv)\n",
    "annual_mean = np.array(annual_mean)\n",
    "annual_stdv = np.array(annual_stdv)\n",
    "annual_stdv"
   ]
  },
  {
   "cell_type": "code",
   "execution_count": null,
   "metadata": {},
   "outputs": [],
   "source": [
    "# Create DataFrame for returns and risk \n",
    "returns_data = pd.DataFrame({'Symbol':tickers, \n",
    "                             'Daily Average Return (%)':daily_mean,\n",
    "                             'Daily Risk (%)':daily_stdv,\n",
    "                             'Annual Average Return (%)':annual_mean,\n",
    "                             'Annual Risk (%)':annual_stdv\n",
    "                            })\n",
    "returns_data"
   ]
  },
  {
   "cell_type": "code",
   "execution_count": null,
   "metadata": {},
   "outputs": [],
   "source": [
    "# Returns the lowest return in history between 09-30-2014 to now\n",
    "returns.idxmin() "
   ]
  },
  {
   "cell_type": "code",
   "execution_count": null,
   "metadata": {},
   "outputs": [],
   "source": [
    "# Returns the highest return in history between 09-30-2014 to now\n",
    "returns.idxmax()"
   ]
  },
  {
   "cell_type": "code",
   "execution_count": null,
   "metadata": {},
   "outputs": [],
   "source": [
    "# Covariance daily\n",
    "# Determines if there is a relationship between two stocks, whether they move together:\n",
    "# positively, negatively, or neutral \n",
    "return_cov = returns.cov()\n",
    "return_cov"
   ]
  },
  {
   "cell_type": "code",
   "execution_count": null,
   "metadata": {},
   "outputs": [],
   "source": [
    "# Covariance yearly\n",
    "# Determines if there is a relationship between two stocks, whether they move together:\n",
    "# positively, negatively, or neutral \n",
    "return_cov = returns.cov()*250\n",
    "return_cov"
   ]
  },
  {
   "cell_type": "code",
   "execution_count": null,
   "metadata": {},
   "outputs": [],
   "source": [
    "# Correlations\n",
    "# Determines how close the relationship are between two stocks\n",
    "return_corr = returns.corr()\n",
    "return_corr"
   ]
  },
  {
   "cell_type": "code",
   "execution_count": null,
   "metadata": {},
   "outputs": [],
   "source": [
    "no_assets = len(tickers)"
   ]
  },
  {
   "cell_type": "code",
   "execution_count": null,
   "metadata": {},
   "outputs": [],
   "source": [
    "pflio_ret = []\n",
    "pflio_vol = [] \n",
    "pflio_wei = []\n",
    "\n",
    "for x in range(10000):\n",
    "    weights = np.random.random(no_assets)\n",
    "    weights /= np.sum(weights)\n",
    "    \n",
    "    pflio_wei.append(weights)\n",
    "    pflio_ret.append(np.sum(weights*returns.mean())*250)\n",
    "    pflio_vol.append(np.sqrt(np.dot(weights.T, np.dot(returns.cov()*250, weights))))\n",
    "    #print(x, weights)\n",
    "\n",
    "pflio_wei = np.array(pflio_wei)\n",
    "pflio_ret = np.array(pflio_ret)\n",
    "pflio_vol = np.array(pflio_vol)\n",
    "\n",
    "print(np.sum(weights))\n",
    "#pflio_returns, pflio_volatilities"
   ]
  },
  {
   "cell_type": "code",
   "execution_count": null,
   "metadata": {},
   "outputs": [],
   "source": [
    "pflio_scenarios = pd.DataFrame({'Return': pflio_ret, 'Volatility': pflio_vol})\n",
    "pflio_scenarios = pflio_scenarios.sort_values('Return', ascending=True)"
   ]
  },
  {
   "cell_type": "code",
   "execution_count": null,
   "metadata": {},
   "outputs": [],
   "source": [
    "pflio_scenarios.head()\n",
    "#pflio_scenarios['Return']"
   ]
  },
  {
   "cell_type": "code",
   "execution_count": null,
   "metadata": {},
   "outputs": [],
   "source": [
    "pflio_scenarios.tail(10)"
   ]
  },
  {
   "cell_type": "code",
   "execution_count": null,
   "metadata": {},
   "outputs": [],
   "source": [
    "# Efficient Frontier \n",
    "pflio_scenarios.plot(x='Volatility', y='Return', kind='scatter', figsize=(10,6));\n",
    "plt.xlabel('Expected Volatility')\n",
    "plt.ylabel('Expected Return')"
   ]
  },
  {
   "cell_type": "code",
   "execution_count": null,
   "metadata": {},
   "outputs": [],
   "source": [
    "index = 4297\n",
    "pfolio_wei2 = []\n",
    "tickers2 = []\n",
    "tickers2 = np.array(tickers)\n",
    "pflio_wei2 = pflio_wei[index]\n",
    "\n",
    "tickers_df = pd.DataFrame({'Symbol':tickers})\n",
    "\n",
    "ideal_portfolio = pd.DataFrame({'Weights': pflio_wei2})\n",
    "ideal_portfolio = pd.concat([tickers_df, ideal_portfolio], axis=1)\n",
    "ideal_portfolio = ideal_portfolio.sort_values('Weights', ascending=False)\n",
    "ideal_portfolio"
   ]
  },
  {
   "cell_type": "code",
   "execution_count": null,
   "metadata": {},
   "outputs": [],
   "source": [
    "(historical_data/historical_data.iloc[0]*100).plot(figsize=(20,15))"
   ]
  },
  {
   "cell_type": "code",
   "execution_count": null,
   "metadata": {},
   "outputs": [],
   "source": [
    "sns.set_style('whitegrid')\n",
    "regression = sns.pairplot(returns[1:], kind=\"reg\")\n",
    "regression"
   ]
  },
  {
   "cell_type": "code",
   "execution_count": null,
   "metadata": {},
   "outputs": [],
   "source": [
    "plt.subplots(figsize=(15, 15))\n",
    "heatmap = sns.heatmap(return_corr, annot=True, square=True, cmap='coolwarm')\n",
    "heatmap\n"
   ]
  },
  {
   "cell_type": "code",
   "execution_count": null,
   "metadata": {},
   "outputs": [],
   "source": []
  }
 ],
 "metadata": {
  "kernelspec": {
   "display_name": "Python 3",
   "language": "python",
   "name": "python3"
  },
  "language_info": {
   "codemirror_mode": {
    "name": "ipython",
    "version": 3
   },
   "file_extension": ".py",
   "mimetype": "text/x-python",
   "name": "python",
   "nbconvert_exporter": "python",
   "pygments_lexer": "ipython3",
   "version": "3.7.3"
  }
 },
 "nbformat": 4,
 "nbformat_minor": 2
}
