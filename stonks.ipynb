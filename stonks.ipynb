{
 "cells": [
  {
   "cell_type": "markdown",
   "metadata": {},
   "source": [
    "## Analysis of Robinhood Portfolio"
   ]
  },
  {
   "cell_type": "markdown",
   "metadata": {},
   "source": [
    "Project by: Pete Aguirre II\n",
    "\n",
    "In this project, I will do a retuern:risk analysis on my current Robinhood stock portfolio with the help of multiple \n",
    "tools using:\n",
    "- Python 3\n",
    "- Jupyter Lab/Notebook\n",
    "- Beautiful Soup\n",
    "- Markowitz Efficent Frontier"
   ]
  },
  {
   "cell_type": "code",
   "execution_count": null,
   "metadata": {},
   "outputs": [],
   "source": [
    "# Libraries Used \n",
    "import pandas as pd\n",
    "import numpy as np \n",
    "import matplotlib.pyplot as plt\n",
    "import seaborn as sns\n",
    "# import requests\n",
    "\n",
    "import robin_stocks as r \n",
    "import pyotp\n",
    "import json\n",
    "\n",
    "from pandas_datareader import data as wb\n",
    "from bs4 import BeautifulSoup as soup\n",
    "\n",
    "\n",
    "# Magic\n",
    "%matplotlib inline"
   ]
  },
  {
   "cell_type": "markdown",
   "metadata": {},
   "source": [
    "## 1.) Data Collection (updated)"
   ]
  },
  {
   "cell_type": "code",
   "execution_count": null,
   "metadata": {},
   "outputs": [],
   "source": [
    "# Robinhood Log In \n",
    "email = '###'\n",
    "password = '###'\n",
    "\n",
    "totp = pyotp.TOTP(\"My2factorAppHere\").now()\n",
    "log_in = r.login(email, password, expiresIn=500, by_sms=False, mfa_code=totp)\n",
    "\n",
    "# Get stocks value\n",
    "stonks = r.build_holdings()\n",
    "\n",
    "# Logout \n",
    "r.logout()"
   ]
  },
  {
   "cell_type": "code",
   "execution_count": null,
   "metadata": {},
   "outputs": [],
   "source": [
    "# Stonks Key : Value preview \n",
    "for key, value in stonks.items():\n",
    "    print(key, value)"
   ]
  },
  {
   "cell_type": "code",
   "execution_count": null,
   "metadata": {},
   "outputs": [],
   "source": [
    "# Company tickers\n",
    "symbols = []\n",
    "for k in  stonks.keys():\n",
    "    symbols.append(k)\n",
    "symbols = np.array(symbols)\n",
    "symbols = pd.DataFrame(symbols, columns=['Symbol'])\n",
    "symbols"
   ]
  },
  {
   "cell_type": "code",
   "execution_count": 236,
   "metadata": {},
   "outputs": [
    {
     "data": {
      "text/html": [
       "<div>\n",
       "<style scoped>\n",
       "    .dataframe tbody tr th:only-of-type {\n",
       "        vertical-align: middle;\n",
       "    }\n",
       "\n",
       "    .dataframe tbody tr th {\n",
       "        vertical-align: top;\n",
       "    }\n",
       "\n",
       "    .dataframe thead th {\n",
       "        text-align: right;\n",
       "    }\n",
       "</style>\n",
       "<table border=\"1\" class=\"dataframe\">\n",
       "  <thead>\n",
       "    <tr style=\"text-align: right;\">\n",
       "      <th></th>\n",
       "      <th>Price</th>\n",
       "      <th>Quantity</th>\n",
       "      <th>Average Price</th>\n",
       "      <th>Equity</th>\n",
       "      <th>percent_change</th>\n",
       "      <th>equity_change</th>\n",
       "      <th>type</th>\n",
       "      <th>Name</th>\n",
       "      <th>id</th>\n",
       "      <th>P/E</th>\n",
       "      <th>Percentage</th>\n",
       "    </tr>\n",
       "  </thead>\n",
       "  <tbody>\n",
       "    <tr>\n",
       "      <th>0</th>\n",
       "      <td>3225.000000</td>\n",
       "      <td>1.00000000</td>\n",
       "      <td>2978.4800</td>\n",
       "      <td>3225.00</td>\n",
       "      <td>8.28</td>\n",
       "      <td>246.520000</td>\n",
       "      <td>stock</td>\n",
       "      <td>Amazon</td>\n",
       "      <td>c0bb3aec-bd1e-471e-a4f0-ca011cbec711</td>\n",
       "      <td>120.650000</td>\n",
       "      <td>24.87</td>\n",
       "    </tr>\n",
       "    <tr>\n",
       "      <th>1</th>\n",
       "      <td>455.267000</td>\n",
       "      <td>5.00000000</td>\n",
       "      <td>400.5540</td>\n",
       "      <td>2276.34</td>\n",
       "      <td>13.66</td>\n",
       "      <td>273.565000</td>\n",
       "      <td>stock</td>\n",
       "      <td>Apple</td>\n",
       "      <td>450dfc6d-5510-4d40-abfb-f633b7d9be3e</td>\n",
       "      <td>33.339900</td>\n",
       "      <td>17.55</td>\n",
       "    </tr>\n",
       "    <tr>\n",
       "      <th>2</th>\n",
       "      <td>172.000000</td>\n",
       "      <td>5.00000000</td>\n",
       "      <td>160.6400</td>\n",
       "      <td>860.00</td>\n",
       "      <td>7.07</td>\n",
       "      <td>56.800000</td>\n",
       "      <td>stock</td>\n",
       "      <td>Boeing</td>\n",
       "      <td>ae7f719c-ba1a-4207-8d94-af40fb7310f8</td>\n",
       "      <td>None</td>\n",
       "      <td>6.63</td>\n",
       "    </tr>\n",
       "    <tr>\n",
       "      <th>3</th>\n",
       "      <td>265.680000</td>\n",
       "      <td>10.00000000</td>\n",
       "      <td>246.0856</td>\n",
       "      <td>2656.80</td>\n",
       "      <td>7.96</td>\n",
       "      <td>195.944000</td>\n",
       "      <td>adr</td>\n",
       "      <td>Alibaba</td>\n",
       "      <td>b2e06903-5c44-46a4-bd42-2a696f9d68e1</td>\n",
       "      <td>32.151300</td>\n",
       "      <td>20.48</td>\n",
       "    </tr>\n",
       "    <tr>\n",
       "      <th>4</th>\n",
       "      <td>64.910000</td>\n",
       "      <td>8.00000000</td>\n",
       "      <td>64.1613</td>\n",
       "      <td>519.28</td>\n",
       "      <td>1.17</td>\n",
       "      <td>5.989600</td>\n",
       "      <td>adr</td>\n",
       "      <td>JD.com</td>\n",
       "      <td>b1e0ba21-bf54-454a-a409-89fe275bbe05</td>\n",
       "      <td>111.328000</td>\n",
       "      <td>4.00</td>\n",
       "    </tr>\n",
       "    <tr>\n",
       "      <th>5</th>\n",
       "      <td>43.640000</td>\n",
       "      <td>20.00000000</td>\n",
       "      <td>42.4100</td>\n",
       "      <td>872.80</td>\n",
       "      <td>2.90</td>\n",
       "      <td>24.600000</td>\n",
       "      <td>stock</td>\n",
       "      <td>Exxon Mobil</td>\n",
       "      <td>9133b38b-4917-4b5a-8eab-c029d60f9912</td>\n",
       "      <td>25.995700</td>\n",
       "      <td>6.73</td>\n",
       "    </tr>\n",
       "    <tr>\n",
       "      <th>6</th>\n",
       "      <td>33.030000</td>\n",
       "      <td>15.00000000</td>\n",
       "      <td>31.7173</td>\n",
       "      <td>495.45</td>\n",
       "      <td>4.14</td>\n",
       "      <td>19.690500</td>\n",
       "      <td>stock</td>\n",
       "      <td>Southwest Airlines</td>\n",
       "      <td>09bc1a2d-534d-49d4-add7-e0eb3be8e640</td>\n",
       "      <td>78.167800</td>\n",
       "      <td>3.82</td>\n",
       "    </tr>\n",
       "    <tr>\n",
       "      <th>7</th>\n",
       "      <td>27.040000</td>\n",
       "      <td>15.00000000</td>\n",
       "      <td>25.0280</td>\n",
       "      <td>405.60</td>\n",
       "      <td>8.04</td>\n",
       "      <td>30.180000</td>\n",
       "      <td>stock</td>\n",
       "      <td>Delta Air Lines</td>\n",
       "      <td>b9a6444e-ce3e-4186-be32-b82814d2b418</td>\n",
       "      <td>None</td>\n",
       "      <td>3.13</td>\n",
       "    </tr>\n",
       "    <tr>\n",
       "      <th>8</th>\n",
       "      <td>38.250000</td>\n",
       "      <td>10.00000000</td>\n",
       "      <td>36.9630</td>\n",
       "      <td>382.50</td>\n",
       "      <td>3.48</td>\n",
       "      <td>12.870000</td>\n",
       "      <td>stock</td>\n",
       "      <td>Pfizer</td>\n",
       "      <td>6ec6c70e-d686-4d73-b5a8-74fec96aca0e</td>\n",
       "      <td>15.264400</td>\n",
       "      <td>2.95</td>\n",
       "    </tr>\n",
       "    <tr>\n",
       "      <th>9</th>\n",
       "      <td>56.220000</td>\n",
       "      <td>10.00000000</td>\n",
       "      <td>56.5770</td>\n",
       "      <td>562.20</td>\n",
       "      <td>-0.63</td>\n",
       "      <td>-3.570000</td>\n",
       "      <td>adr</td>\n",
       "      <td>AstraZeneca</td>\n",
       "      <td>7aeae03d-a1ba-4670-af0e-b592378e7bfc</td>\n",
       "      <td>68.356900</td>\n",
       "      <td>4.33</td>\n",
       "    </tr>\n",
       "  </tbody>\n",
       "</table>\n",
       "</div>"
      ],
      "text/plain": [
       "         Price     Quantity Average Price   Equity percent_change  \\\n",
       "0  3225.000000   1.00000000     2978.4800  3225.00           8.28   \n",
       "1   455.267000   5.00000000      400.5540  2276.34          13.66   \n",
       "2   172.000000   5.00000000      160.6400   860.00           7.07   \n",
       "3   265.680000  10.00000000      246.0856  2656.80           7.96   \n",
       "4    64.910000   8.00000000       64.1613   519.28           1.17   \n",
       "5    43.640000  20.00000000       42.4100   872.80           2.90   \n",
       "6    33.030000  15.00000000       31.7173   495.45           4.14   \n",
       "7    27.040000  15.00000000       25.0280   405.60           8.04   \n",
       "8    38.250000  10.00000000       36.9630   382.50           3.48   \n",
       "9    56.220000  10.00000000       56.5770   562.20          -0.63   \n",
       "\n",
       "  equity_change   type                Name  \\\n",
       "0    246.520000  stock              Amazon   \n",
       "1    273.565000  stock               Apple   \n",
       "2     56.800000  stock              Boeing   \n",
       "3    195.944000    adr             Alibaba   \n",
       "4      5.989600    adr              JD.com   \n",
       "5     24.600000  stock         Exxon Mobil   \n",
       "6     19.690500  stock  Southwest Airlines   \n",
       "7     30.180000  stock     Delta Air Lines   \n",
       "8     12.870000  stock              Pfizer   \n",
       "9     -3.570000    adr         AstraZeneca   \n",
       "\n",
       "                                     id         P/E Percentage  \n",
       "0  c0bb3aec-bd1e-471e-a4f0-ca011cbec711  120.650000      24.87  \n",
       "1  450dfc6d-5510-4d40-abfb-f633b7d9be3e   33.339900      17.55  \n",
       "2  ae7f719c-ba1a-4207-8d94-af40fb7310f8        None       6.63  \n",
       "3  b2e06903-5c44-46a4-bd42-2a696f9d68e1   32.151300      20.48  \n",
       "4  b1e0ba21-bf54-454a-a409-89fe275bbe05  111.328000       4.00  \n",
       "5  9133b38b-4917-4b5a-8eab-c029d60f9912   25.995700       6.73  \n",
       "6  09bc1a2d-534d-49d4-add7-e0eb3be8e640   78.167800       3.82  \n",
       "7  b9a6444e-ce3e-4186-be32-b82814d2b418        None       3.13  \n",
       "8  6ec6c70e-d686-4d73-b5a8-74fec96aca0e   15.264400       2.95  \n",
       "9  7aeae03d-a1ba-4670-af0e-b592378e7bfc   68.356900       4.33  "
      ]
     },
     "execution_count": 236,
     "metadata": {},
     "output_type": "execute_result"
    }
   ],
   "source": [
    "# Other values\n",
    "other_vals = pd.DataFrame.from_dict(stonks.values())\n",
    "#other_vals = other_val.drop(['percent_change', 'equity_change', 'type', 'id'], axis=1)\n",
    "other_vals\n",
    "other_vals.rename(columns={'price':'Price', 'quantity':'Quantity', 'average_buy_price':'Average Price', 'equity':'Equity', 'name':'Name', 'pe_ratio':'P/E', 'percentage':'Percentage'})\n",
    "\n",
    "\n",
    "#header_rename = ['price':Price', 'quantity':Quantity', 'average_price_buy':Average Price', 'equity':'Equity', 'name':'Name', 'pe_ratio':P/E', 'percentage':'Percentage']\n",
    "\n",
    "\n",
    "#print(other_val.col())\n",
    "#header_rename = ['Price', 'Quantity', 'Average Price', 'Equity', 'Name', 'P/E', 'Percentage']\n",
    "#for i, j in range(len(other_val)-3):\n",
    "#    other_val = other_val.rename(columns={other_val[i]: header_rename[j]})\n",
    "#other_val.rename(columns={'price':'Price', 'quantity':'Quantity'})\n",
    "#type(other_val.iloc[0])\n",
    "#pd.DataFrame.rename(columns={'price':'Price', 'quantity':'Quantity', })\n",
    "#other_val"
   ]
  },
  {
   "cell_type": "code",
   "execution_count": null,
   "metadata": {},
   "outputs": [],
   "source": [
    "portfolio = pd.concat(symbols, other_val)\n",
    "portfolio"
   ]
  },
  {
   "cell_type": "code",
   "execution_count": null,
   "metadata": {},
   "outputs": [],
   "source": [
    "portfolio.info()"
   ]
  },
  {
   "cell_type": "markdown",
   "metadata": {},
   "source": [
    "## 1.) Data Collection (Portfolio fr. Robinhood)\n",
    "\n",
    "Obtain portfolio from Robinhood using BeautifulSoup4. "
   ]
  },
  {
   "cell_type": "code",
   "execution_count": null,
   "metadata": {},
   "outputs": [],
   "source": [
    "# On robinhood.com/account, begin copy and paste from html:\n",
    "# <div class=\"_35i1NVinE8wTOLz3sUynSw\"><header class=\"_1rWpCWWqvbg316kwNPlwYi\">\n",
    "# Note(s): I had to manipulate some html text in able to extract a span that\n",
    "#          does not contain an attribute. I named it as: class=\"filler\".\n",
    "# Change:    <div class=\"_1bZB-iudENk38jTXhs7BIB\"><span>\n",
    "# Change to: <div class=\"_1bZB-iudENk38jTXhs7BIB\"><span class=\"filler\">\n",
    "#       Another one was added for Total Return, called: class=\"filler2\"\n",
    "# Change:    </svg><span><span>\n",
    "# Change to: </svg><span><span class=\"filler2\">\n",
    "html_doc = '''<div class=\"_35i1NVinE8wTOLz3sUynSw\"><header class=\"_1rWpCWWqvbg316kwNPlwYi\"><div class=\"_2YdFPnDqXSoDKmQtq28ML- _2Tpy7JyddSjzNzIEW6bQgP css-b8vnd1\"><span class=\"css-h74qi0\"><span class=\"css-13vshb9\"><span class=\"css-1k2rdgi\">Name</span></span></span><svg class=\"_1-Dd_YXn_flSIsvKPPGJF3 css-1bummxh\" width=\"8\" height=\"5\" viewBox=\"0 0 8 5\"><polygon fill-rule=\"evenodd\" points=\"50 9 54 14 46 14\" transform=\"rotate(-180 27 7)\"></polygon></svg></div><div class=\"_2-4BkMtIykh6hAhu1CkOAi _2Tpy7JyddSjzNzIEW6bQgP css-b8vnd1\"><span class=\"css-h74qi0\"><span class=\"css-13vshb9\"><span class=\"css-1k2rdgi\">Symbol</span></span></span><svg class=\"_1-Dd_YXn_flSIsvKPPGJF3 css-1bummxh\" width=\"8\" height=\"5\" viewBox=\"0 0 8 5\"><polygon fill-rule=\"evenodd\" points=\"50 9 54 14 46 14\" transform=\"rotate(-180 27 7)\"></polygon></svg></div><div class=\"_2Tpy7JyddSjzNzIEW6bQgP css-b8vnd1\"><span class=\"css-h74qi0\"><span class=\"css-13vshb9\"><span class=\"css-1k2rdgi\">Shares</span></span></span><svg class=\"_1-Dd_YXn_flSIsvKPPGJF3 css-1bummxh\" width=\"8\" height=\"5\" viewBox=\"0 0 8 5\"><polygon fill-rule=\"evenodd\" points=\"50 9 54 14 46 14\" transform=\"rotate(-180 27 7)\"></polygon></svg></div><div class=\"_1aY3uEJAcFViGgVc3SRz4d _2Tpy7JyddSjzNzIEW6bQgP css-b8vnd1\"><span class=\"css-h74qi0\"><span class=\"css-13vshb9\"><span class=\"css-1k2rdgi\">Price</span></span></span><svg class=\"_1-Dd_YXn_flSIsvKPPGJF3 css-1bummxh\" width=\"8\" height=\"5\" viewBox=\"0 0 8 5\"><polygon fill-rule=\"evenodd\" points=\"50 9 54 14 46 14\" transform=\"rotate(-180 27 7)\"></polygon></svg></div><div class=\"_2gJfY0FDaI4PWOsRbu1PPj _2Tpy7JyddSjzNzIEW6bQgP css-b8vnd1\"><span class=\"css-h74qi0\"><span class=\"css-13vshb9\"><span class=\"css-1k2rdgi\">Average Cost</span></span></span><svg class=\"_1-Dd_YXn_flSIsvKPPGJF3 css-1bummxh\" width=\"8\" height=\"5\" viewBox=\"0 0 8 5\"><polygon fill-rule=\"evenodd\" points=\"50 9 54 14 46 14\" transform=\"rotate(-180 27 7)\"></polygon></svg></div><div class=\"Ue-PUFBPXUbpP5zhTrFKT _3QouEAcfZir2lV5xvc_C0b css-b8vnd1\"><span class=\"css-zc0oik\"><span class=\"css-13vshb9\"><span class=\"css-1k2rdgi\">Total Return</span></span></span><svg class=\"_1-Dd_YXn_flSIsvKPPGJF3 css-1n5qlcf\" width=\"8\" height=\"5\" viewBox=\"0 0 8 5\"><polygon fill-rule=\"evenodd\" points=\"50 9 54 14 46 14\" transform=\"rotate(-180 27 7)\"></polygon></svg></div><div class=\"atrP1y1y_C9ULHV4BSwFj _2Tpy7JyddSjzNzIEW6bQgP css-b8vnd1\"><span class=\"css-h74qi0\"><span class=\"css-13vshb9\"><span class=\"css-1k2rdgi\">Equity</span></span></span><svg class=\"_1-Dd_YXn_flSIsvKPPGJF3 css-1bummxh\" width=\"8\" height=\"5\" viewBox=\"0 0 8 5\"><polygon fill-rule=\"evenodd\" points=\"50 9 54 14 46 14\" transform=\"rotate(-180 27 7)\"></polygon></svg></div></header><div><a class=\"rh-hyperlink qD5a4psv-CV7GnWdHxLvn n7JlFw29Ep8AXGLvITeC4 _3DXBkJzx8C8DnFG0wXGZ50 _2LZkydeTTkR9XsU9ETIiTB\" rel=\"\" href=\"/stocks/AMZN\"><div class=\"_3sbUrrmoSkcTz1WFZ1cZ85\"><div class=\"_2pf2FyleeFNQa8GgYJPzME\"><div class=\"_37g6R7bjpn_GE9wrF8xPab\"><div class=\"_1bZB-iudENk38jTXhs7BIB\"><div class=\"_2YdFPnDqXSoDKmQtq28ML-\"><span class=\"css-13vshb9\"><span class=\"_2jKxrvkjD73sLQEfH5NTgT\">Amazon</span></span></div></div><div class=\"_1bZB-iudENk38jTXhs7BIB\"><span class=\"_2-4BkMtIykh6hAhu1CkOAi\">AMZN</span></div><div class=\"_1bZB-iudENk38jTXhs7BIB\"><span class=\"filler\">1</span></div><div class=\"_1bZB-iudENk38jTXhs7BIB\"><span class=\"_1aY3uEJAcFViGgVc3SRz4d\">$3,193.89</span></div><div class=\"_1bZB-iudENk38jTXhs7BIB\"><span class=\"_2gJfY0FDaI4PWOsRbu1PPj\">$2,978.48</span></div><div class=\"_1bZB-iudENk38jTXhs7BIB\"><span class=\"Ue-PUFBPXUbpP5zhTrFKT\"><svg class=\"_1gFu7pxJKo2ybEddsSwwbq\" width=\"9\" height=\"8\" viewBox=\"0 0 9 8\"><polygon fill-rule=\"evenodd\" points=\"4 0 8 7 0 7\"></polygon></svg><span><span class=\"filler2\">$215.41</span></span></span></div><div class=\"_1bZB-iudENk38jTXhs7BIB\"><span class=\"atrP1y1y_C9ULHV4BSwFj\">$3,193.89</span></div></div></div></div></a><a class=\"rh-hyperlink qD5a4psv-CV7GnWdHxLvn n7JlFw29Ep8AXGLvITeC4 _3DXBkJzx8C8DnFG0wXGZ50 _2LZkydeTTkR9XsU9ETIiTB _2nPaH1Do76n14Fi4_DN3Ae\" rel=\"\" href=\"/stocks/AAPL\"><div class=\"_3sbUrrmoSkcTz1WFZ1cZ85\"><div class=\"_2pf2FyleeFNQa8GgYJPzME\"><div class=\"_37g6R7bjpn_GE9wrF8xPab\"><div class=\"_1bZB-iudENk38jTXhs7BIB\"><div class=\"_2YdFPnDqXSoDKmQtq28ML-\"><span class=\"css-13vshb9\"><span class=\"_2jKxrvkjD73sLQEfH5NTgT\">Apple</span></span></div></div><div class=\"_1bZB-iudENk38jTXhs7BIB\"><span class=\"_2-4BkMtIykh6hAhu1CkOAi\">AAPL</span></div><div class=\"_1bZB-iudENk38jTXhs7BIB\"><span class=\"filler\">5</span></div><div class=\"_1bZB-iudENk38jTXhs7BIB\"><span class=\"_1aY3uEJAcFViGgVc3SRz4d\">$439.45</span></div><div class=\"_1bZB-iudENk38jTXhs7BIB\"><span class=\"_2gJfY0FDaI4PWOsRbu1PPj\">$400.55</span></div><div class=\"_1bZB-iudENk38jTXhs7BIB\"><span class=\"Ue-PUFBPXUbpP5zhTrFKT\"><svg class=\"_1gFu7pxJKo2ybEddsSwwbq\" width=\"9\" height=\"8\" viewBox=\"0 0 9 8\"><polygon fill-rule=\"evenodd\" points=\"4 0 8 7 0 7\"></polygon></svg><span><span class=\"filler2\">$194.48</span></span></span></div><div class=\"_1bZB-iudENk38jTXhs7BIB\"><span class=\"atrP1y1y_C9ULHV4BSwFj\">$2,197.25</span></div></div></div></div></a><a class=\"rh-hyperlink qD5a4psv-CV7GnWdHxLvn n7JlFw29Ep8AXGLvITeC4 _3DXBkJzx8C8DnFG0wXGZ50 _2LZkydeTTkR9XsU9ETIiTB _2nPaH1Do76n14Fi4_DN3Ae\" rel=\"\" href=\"/stocks/BABA\"><div class=\"_3sbUrrmoSkcTz1WFZ1cZ85\"><div class=\"_2pf2FyleeFNQa8GgYJPzME\"><div class=\"_37g6R7bjpn_GE9wrF8xPab\"><div class=\"_1bZB-iudENk38jTXhs7BIB\"><div class=\"_2YdFPnDqXSoDKmQtq28ML-\"><span class=\"css-13vshb9\"><span class=\"_2jKxrvkjD73sLQEfH5NTgT\">Alibaba</span></span></div></div><div class=\"_1bZB-iudENk38jTXhs7BIB\"><span class=\"_2-4BkMtIykh6hAhu1CkOAi\">BABA</span></div><div class=\"_1bZB-iudENk38jTXhs7BIB\"><span class=\"filler\">10</span></div><div class=\"_1bZB-iudENk38jTXhs7BIB\"><span class=\"_1aY3uEJAcFViGgVc3SRz4d\">$265.00</span></div><div class=\"_1bZB-iudENk38jTXhs7BIB\"><span class=\"_2gJfY0FDaI4PWOsRbu1PPj\">$246.09</span></div><div class=\"_1bZB-iudENk38jTXhs7BIB\"><span class=\"Ue-PUFBPXUbpP5zhTrFKT\"><svg class=\"_1gFu7pxJKo2ybEddsSwwbq\" width=\"9\" height=\"8\" viewBox=\"0 0 9 8\"><polygon fill-rule=\"evenodd\" points=\"4 0 8 7 0 7\"></polygon></svg><span><span class=\"filler2\">$189.14</span></span></span></div><div class=\"_1bZB-iudENk38jTXhs7BIB\"><span class=\"atrP1y1y_C9ULHV4BSwFj\">$2,650.00</span></div></div></div></div></a><a class=\"rh-hyperlink qD5a4psv-CV7GnWdHxLvn n7JlFw29Ep8AXGLvITeC4 _3DXBkJzx8C8DnFG0wXGZ50 _2LZkydeTTkR9XsU9ETIiTB _2nPaH1Do76n14Fi4_DN3Ae\" rel=\"\" href=\"/stocks/BA\"><div class=\"_3sbUrrmoSkcTz1WFZ1cZ85\"><div class=\"_2pf2FyleeFNQa8GgYJPzME\"><div class=\"_37g6R7bjpn_GE9wrF8xPab\"><div class=\"_1bZB-iudENk38jTXhs7BIB\"><div class=\"_2YdFPnDqXSoDKmQtq28ML-\"><span class=\"css-13vshb9\"><span class=\"_2jKxrvkjD73sLQEfH5NTgT\">Boeing</span></span></div></div><div class=\"_1bZB-iudENk38jTXhs7BIB\"><span class=\"_2-4BkMtIykh6hAhu1CkOAi\">BA</span></div><div class=\"_1bZB-iudENk38jTXhs7BIB\"><span class=\"filler\">5</span></div><div class=\"_1bZB-iudENk38jTXhs7BIB\"><span class=\"_1aY3uEJAcFViGgVc3SRz4d\">$175.31</span></div><div class=\"_1bZB-iudENk38jTXhs7BIB\"><span class=\"_2gJfY0FDaI4PWOsRbu1PPj\">$160.64</span></div><div class=\"_1bZB-iudENk38jTXhs7BIB\"><span class=\"Ue-PUFBPXUbpP5zhTrFKT\"><svg class=\"_1gFu7pxJKo2ybEddsSwwbq\" width=\"9\" height=\"8\" viewBox=\"0 0 9 8\"><polygon fill-rule=\"evenodd\" points=\"4 0 8 7 0 7\"></polygon></svg><span><span class=\"filler2\">$73.35</span></span></span></div><div class=\"_1bZB-iudENk38jTXhs7BIB\"><span class=\"atrP1y1y_C9ULHV4BSwFj\">$876.55</span></div></div></div></div></a><a class=\"rh-hyperlink qD5a4psv-CV7GnWdHxLvn n7JlFw29Ep8AXGLvITeC4 _3DXBkJzx8C8DnFG0wXGZ50 _2LZkydeTTkR9XsU9ETIiTB _2nPaH1Do76n14Fi4_DN3Ae\" rel=\"\" href=\"/stocks/XOM\"><div class=\"_3sbUrrmoSkcTz1WFZ1cZ85\"><div class=\"_2pf2FyleeFNQa8GgYJPzME\"><div class=\"_37g6R7bjpn_GE9wrF8xPab\"><div class=\"_1bZB-iudENk38jTXhs7BIB\"><div class=\"_2YdFPnDqXSoDKmQtq28ML-\"><span class=\"css-13vshb9\"><span class=\"_2jKxrvkjD73sLQEfH5NTgT\">Exxon Mobil</span></span></div></div><div class=\"_1bZB-iudENk38jTXhs7BIB\"><span class=\"_2-4BkMtIykh6hAhu1CkOAi\">XOM</span></div><div class=\"_1bZB-iudENk38jTXhs7BIB\"><span class=\"filler\">20</span></div><div class=\"_1bZB-iudENk38jTXhs7BIB\"><span class=\"_1aY3uEJAcFViGgVc3SRz4d\">$43.94</span></div><div class=\"_1bZB-iudENk38jTXhs7BIB\"><span class=\"_2gJfY0FDaI4PWOsRbu1PPj\">$42.41</span></div><div class=\"_1bZB-iudENk38jTXhs7BIB\"><span class=\"Ue-PUFBPXUbpP5zhTrFKT\"><svg class=\"_1gFu7pxJKo2ybEddsSwwbq\" width=\"9\" height=\"8\" viewBox=\"0 0 9 8\"><polygon fill-rule=\"evenodd\" points=\"4 0 8 7 0 7\"></polygon></svg><span><span class=\"filler2\">$30.60</span></span></span></div><div class=\"_1bZB-iudENk38jTXhs7BIB\"><span class=\"atrP1y1y_C9ULHV4BSwFj\">$878.80</span></div></div></div></div></a><a class=\"rh-hyperlink qD5a4psv-CV7GnWdHxLvn n7JlFw29Ep8AXGLvITeC4 _3DXBkJzx8C8DnFG0wXGZ50 _2LZkydeTTkR9XsU9ETIiTB _2nPaH1Do76n14Fi4_DN3Ae\" rel=\"\" href=\"/stocks/DAL\"><div class=\"_3sbUrrmoSkcTz1WFZ1cZ85\"><div class=\"_2pf2FyleeFNQa8GgYJPzME\"><div class=\"_37g6R7bjpn_GE9wrF8xPab\"><div class=\"_1bZB-iudENk38jTXhs7BIB\"><div class=\"_2YdFPnDqXSoDKmQtq28ML-\"><span class=\"css-13vshb9\"><span class=\"_2jKxrvkjD73sLQEfH5NTgT\">Delta Air Lines</span></span></div></div><div class=\"_1bZB-iudENk38jTXhs7BIB\"><span class=\"_2-4BkMtIykh6hAhu1CkOAi\">DAL</span></div><div class=\"_1bZB-iudENk38jTXhs7BIB\"><span class=\"filler\">15</span></div><div class=\"_1bZB-iudENk38jTXhs7BIB\"><span class=\"_1aY3uEJAcFViGgVc3SRz4d\">$27.00</span></div><div class=\"_1bZB-iudENk38jTXhs7BIB\"><span class=\"_2gJfY0FDaI4PWOsRbu1PPj\">$25.03</span></div><div class=\"_1bZB-iudENk38jTXhs7BIB\"><span class=\"Ue-PUFBPXUbpP5zhTrFKT\"><svg class=\"_1gFu7pxJKo2ybEddsSwwbq\" width=\"9\" height=\"8\" viewBox=\"0 0 9 8\"><polygon fill-rule=\"evenodd\" points=\"4 0 8 7 0 7\"></polygon></svg><span><span class=\"filler2\">$29.58</span></span></span></div><div class=\"_1bZB-iudENk38jTXhs7BIB\"><span class=\"atrP1y1y_C9ULHV4BSwFj\">$405.00</span></div></div></div></div></a><a class=\"rh-hyperlink qD5a4psv-CV7GnWdHxLvn n7JlFw29Ep8AXGLvITeC4 _3DXBkJzx8C8DnFG0wXGZ50 _2LZkydeTTkR9XsU9ETIiTB _2nPaH1Do76n14Fi4_DN3Ae\" rel=\"\" href=\"/stocks/LUV\"><div class=\"_3sbUrrmoSkcTz1WFZ1cZ85\"><div class=\"_2pf2FyleeFNQa8GgYJPzME\"><div class=\"_37g6R7bjpn_GE9wrF8xPab\"><div class=\"_1bZB-iudENk38jTXhs7BIB\"><div class=\"_2YdFPnDqXSoDKmQtq28ML-\"><span class=\"css-13vshb9\"><span class=\"_2jKxrvkjD73sLQEfH5NTgT\">Southwest Airlines</span></span></div></div><div class=\"_1bZB-iudENk38jTXhs7BIB\"><span class=\"_2-4BkMtIykh6hAhu1CkOAi\">LUV</span></div><div class=\"_1bZB-iudENk38jTXhs7BIB\"><span class=\"filler\">15</span></div><div class=\"_1bZB-iudENk38jTXhs7BIB\"><span class=\"_1aY3uEJAcFViGgVc3SRz4d\">$33.62</span></div><div class=\"_1bZB-iudENk38jTXhs7BIB\"><span class=\"_2gJfY0FDaI4PWOsRbu1PPj\">$31.72</span></div><div class=\"_1bZB-iudENk38jTXhs7BIB\"><span class=\"Ue-PUFBPXUbpP5zhTrFKT\"><svg class=\"_1gFu7pxJKo2ybEddsSwwbq\" width=\"9\" height=\"8\" viewBox=\"0 0 9 8\"><polygon fill-rule=\"evenodd\" points=\"4 0 8 7 0 7\"></polygon></svg><span><span class=\"filler2\">$28.54</span></span></span></div><div class=\"_1bZB-iudENk38jTXhs7BIB\"><span class=\"atrP1y1y_C9ULHV4BSwFj\">$504.30</span></div></div></div></div></a><a class=\"rh-hyperlink qD5a4psv-CV7GnWdHxLvn n7JlFw29Ep8AXGLvITeC4 _3DXBkJzx8C8DnFG0wXGZ50 _2LZkydeTTkR9XsU9ETIiTB _2nPaH1Do76n14Fi4_DN3Ae\" rel=\"\" href=\"/stocks/PFE\"><div class=\"_3sbUrrmoSkcTz1WFZ1cZ85\"><div class=\"_2pf2FyleeFNQa8GgYJPzME\"><div class=\"_37g6R7bjpn_GE9wrF8xPab\"><div class=\"_1bZB-iudENk38jTXhs7BIB\"><div class=\"_2YdFPnDqXSoDKmQtq28ML-\"><span class=\"css-13vshb9\"><span class=\"_2jKxrvkjD73sLQEfH5NTgT\">Pfizer</span></span></div></div><div class=\"_1bZB-iudENk38jTXhs7BIB\"><span class=\"_2-4BkMtIykh6hAhu1CkOAi\">PFE</span></div><div class=\"_1bZB-iudENk38jTXhs7BIB\"><span class=\"filler\">10</span></div><div class=\"_1bZB-iudENk38jTXhs7BIB\"><span class=\"_1aY3uEJAcFViGgVc3SRz4d\">$39.00</span></div><div class=\"_1bZB-iudENk38jTXhs7BIB\"><span class=\"_2gJfY0FDaI4PWOsRbu1PPj\">$36.96</span></div><div class=\"_1bZB-iudENk38jTXhs7BIB\"><span class=\"Ue-PUFBPXUbpP5zhTrFKT\"><svg class=\"_1gFu7pxJKo2ybEddsSwwbq\" width=\"9\" height=\"8\" viewBox=\"0 0 9 8\"><polygon fill-rule=\"evenodd\" points=\"4 0 8 7 0 7\"></polygon></svg><span><span class=\"filler2\">$20.37</span></span></span></div><div class=\"_1bZB-iudENk38jTXhs7BIB\"><span class=\"atrP1y1y_C9ULHV4BSwFj\">$390.00</span></div></div></div></div></a><a class=\"rh-hyperlink qD5a4psv-CV7GnWdHxLvn n7JlFw29Ep8AXGLvITeC4 _3DXBkJzx8C8DnFG0wXGZ50 _2LZkydeTTkR9XsU9ETIiTB _2nPaH1Do76n14Fi4_DN3Ae\" rel=\"\" href=\"/stocks/JD\"><div class=\"_3sbUrrmoSkcTz1WFZ1cZ85\"><div class=\"_2pf2FyleeFNQa8GgYJPzME\"><div class=\"_37g6R7bjpn_GE9wrF8xPab\"><div class=\"_1bZB-iudENk38jTXhs7BIB\"><div class=\"_2YdFPnDqXSoDKmQtq28ML-\"><span class=\"css-13vshb9\"><span class=\"_2jKxrvkjD73sLQEfH5NTgT\">JD.com</span></span></div></div><div class=\"_1bZB-iudENk38jTXhs7BIB\"><span class=\"_2-4BkMtIykh6hAhu1CkOAi\">JD</span></div><div class=\"_1bZB-iudENk38jTXhs7BIB\"><span class=\"filler\">5</span></div><div class=\"_1bZB-iudENk38jTXhs7BIB\"><span class=\"_1aY3uEJAcFViGgVc3SRz4d\">$65.52</span></div><div class=\"_1bZB-iudENk38jTXhs7BIB\"><span class=\"_2gJfY0FDaI4PWOsRbu1PPj\">$64.17</span></div><div class=\"_1bZB-iudENk38jTXhs7BIB\"><span class=\"Ue-PUFBPXUbpP5zhTrFKT\"><svg class=\"_1gFu7pxJKo2ybEddsSwwbq\" width=\"9\" height=\"8\" viewBox=\"0 0 9 8\"><polygon fill-rule=\"evenodd\" points=\"4 0 8 7 0 7\"></polygon></svg><span><span class=\"filler2\">$6.75</span></span></span></div><div class=\"_1bZB-iudENk38jTXhs7BIB\"><span class=\"atrP1y1y_C9ULHV4BSwFj\">$327.60</span></div></div></div></div></a><a class=\"rh-hyperlink qD5a4psv-CV7GnWdHxLvn n7JlFw29Ep8AXGLvITeC4 _3DXBkJzx8C8DnFG0wXGZ50 _2LZkydeTTkR9XsU9ETIiTB _2nPaH1Do76n14Fi4_DN3Ae\" rel=\"\" href=\"/stocks/AGNC\"><div class=\"_3sbUrrmoSkcTz1WFZ1cZ85\"><div class=\"_2pf2FyleeFNQa8GgYJPzME\"><div class=\"_37g6R7bjpn_GE9wrF8xPab\"><div class=\"_1bZB-iudENk38jTXhs7BIB\"><div class=\"_2YdFPnDqXSoDKmQtq28ML-\"><span class=\"css-13vshb9\"><span class=\"_2jKxrvkjD73sLQEfH5NTgT\">AGNC Investment</span></span></div></div><div class=\"_1bZB-iudENk38jTXhs7BIB\"><span class=\"_2-4BkMtIykh6hAhu1CkOAi\">AGNC</span></div><div class=\"_1bZB-iudENk38jTXhs7BIB\"><span class=\"filler\">15</span></div><div class=\"_1bZB-iudENk38jTXhs7BIB\"><span class=\"_1aY3uEJAcFViGgVc3SRz4d\">$13.67</span></div><div class=\"_1bZB-iudENk38jTXhs7BIB\"><span class=\"_2gJfY0FDaI4PWOsRbu1PPj\">$13.65</span></div><div class=\"_1bZB-iudENk38jTXhs7BIB\"><span class=\"Ue-PUFBPXUbpP5zhTrFKT\"><svg class=\"_1gFu7pxJKo2ybEddsSwwbq\" width=\"9\" height=\"8\" viewBox=\"0 0 9 8\"><polygon fill-rule=\"evenodd\" points=\"4 0 8 7 0 7\"></polygon></svg><span><span class=\"filler2\">$0.33</span></span></span></div><div class=\"_1bZB-iudENk38jTXhs7BIB\"><span class=\"atrP1y1y_C9ULHV4BSwFj\">$205.05</span></div></div></div></div></a><a class=\"rh-hyperlink qD5a4psv-CV7GnWdHxLvn n7JlFw29Ep8AXGLvITeC4 _3DXBkJzx8C8DnFG0wXGZ50 _2LZkydeTTkR9XsU9ETIiTB _2nPaH1Do76n14Fi4_DN3Ae\" rel=\"\" href=\"/stocks/AZN\"><div class=\"_3sbUrrmoSkcTz1WFZ1cZ85\"><div class=\"_2pf2FyleeFNQa8GgYJPzME\"><div class=\"_37g6R7bjpn_GE9wrF8xPab\"><div class=\"_1bZB-iudENk38jTXhs7BIB\"><div class=\"_2YdFPnDqXSoDKmQtq28ML-\"><span class=\"css-13vshb9\"><span class=\"_2jKxrvkjD73sLQEfH5NTgT\">AstraZeneca</span></span></div></div><div class=\"_1bZB-iudENk38jTXhs7BIB\"><span class=\"_2-4BkMtIykh6hAhu1CkOAi\">AZN</span></div><div class=\"_1bZB-iudENk38jTXhs7BIB\"><span class=\"filler\">10</span></div><div class=\"_1bZB-iudENk38jTXhs7BIB\"><span class=\"_1aY3uEJAcFViGgVc3SRz4d\">$56.12</span></div><div class=\"_1bZB-iudENk38jTXhs7BIB\"><span class=\"_2gJfY0FDaI4PWOsRbu1PPj\">$56.58</span></div><div class=\"_1bZB-iudENk38jTXhs7BIB\"><span class=\"Ue-PUFBPXUbpP5zhTrFKT\"><svg class=\"_1gFu7pxJKo2ybEddsSwwbq _2mbK0Mw-5HM4q7eeuDqOau\" width=\"9\" height=\"8\" viewBox=\"0 0 9 8\"><polygon fill-rule=\"evenodd\" points=\"4 0 8 7 0 7\"></polygon></svg><span><span class=\"filler2\">$4.57</span></span></span></div><div class=\"_1bZB-iudENk38jTXhs7BIB\"><span class=\"atrP1y1y_C9ULHV4BSwFj\">$561.20</span></div></div></div></div></a></div></div>'''"
   ]
  },
  {
   "cell_type": "code",
   "execution_count": null,
   "metadata": {},
   "outputs": [],
   "source": [
    "soup = soup(html_doc, 'html.parser')\n",
    "print(soup.prettify()[0:50000])"
   ]
  },
  {
   "cell_type": "code",
   "execution_count": null,
   "metadata": {},
   "outputs": [],
   "source": [
    "# Extracting headers\n",
    "headers_txt = []\n",
    "headers = soup.find_all('span', {'class':'css-1k2rdgi'})\n",
    "for i in range(len(headers)):\n",
    "    headers_txt.append(headers[i].text)\n",
    "    \n",
    "my_portfolio = pd.DataFrame(columns=[headers_txt])\n",
    "my_portfolio"
   ]
  },
  {
   "cell_type": "code",
   "execution_count": null,
   "metadata": {},
   "outputs": [],
   "source": [
    "# Extracting company names\n",
    "names_txt = []\n",
    "names = soup.find_all('span', {'class':'_2jKxrvkjD73sLQEfH5NTgT'})\n",
    "\n",
    "for i in range(len(names)):\n",
    "    names_txt.append(names[i].text)\n",
    "names_txt = np.array(names_txt)\n",
    "#names_txt"
   ]
  },
  {
   "cell_type": "code",
   "execution_count": null,
   "metadata": {},
   "outputs": [],
   "source": [
    "# Extracting company tickers\n",
    "ticks_txt = []\n",
    "ticks = soup.find_all('span', {'class':'_2-4BkMtIykh6hAhu1CkOAi'})\n",
    "\n",
    "for i in range(len(ticks)):\n",
    "    ticks_txt.append(ticks[i].text)\n",
    "ticks_txt = np.array(ticks_txt)\n",
    "#ticks_txt"
   ]
  },
  {
   "cell_type": "code",
   "execution_count": null,
   "metadata": {},
   "outputs": [],
   "source": [
    "# Extracting company shares\n",
    "shares_txt = []\n",
    "shares = soup.find_all('span', {'class':'filler'})\n",
    "\n",
    "for i in range(len(shares)):\n",
    "    shares_txt.append(int(float(shares[i].text)))\n",
    "shares_txt = np.array(shares_txt)\n",
    "#shares_txt"
   ]
  },
  {
   "cell_type": "code",
   "execution_count": null,
   "metadata": {},
   "outputs": [],
   "source": [
    "# Extracting company prices\n",
    "prices_txt = []\n",
    "prices = soup.find_all('span', {'class':'_1aY3uEJAcFViGgVc3SRz4d'})\n",
    "\n",
    "for i in range(len(prices)):\n",
    "    prices_txt.append(prices[i].text)\n",
    "prices_txt = np.array(prices_txt)\n",
    "#prices_txt"
   ]
  },
  {
   "cell_type": "code",
   "execution_count": null,
   "metadata": {},
   "outputs": [],
   "source": [
    "# Extracting average price obtained\n",
    "avg_txt = []\n",
    "avg = soup.find_all('span', {'class':'_2gJfY0FDaI4PWOsRbu1PPj'})\n",
    "\n",
    "for i in range(len(avg)):\n",
    "    avg_txt.append(avg[i].text)\n",
    "avg_txt = np.array(avg_txt)\n",
    "#avg_txt"
   ]
  },
  {
   "cell_type": "code",
   "execution_count": null,
   "metadata": {},
   "outputs": [],
   "source": [
    "# Extracting total return\n",
    "returns_txt = []\n",
    "returns = soup.find_all('span', {'class':'filler2'})\n",
    "\n",
    "for i in range(len(returns)):\n",
    "    returns_txt.append(returns[i].text)\n",
    "returns_txt = np.array(returns_txt)\n",
    "#returns_txt"
   ]
  },
  {
   "cell_type": "code",
   "execution_count": null,
   "metadata": {},
   "outputs": [],
   "source": [
    "# Extracting equity\n",
    "equity_txt = []\n",
    "equity = soup.find_all('span', {'class':'atrP1y1y_C9ULHV4BSwFj'})\n",
    "\n",
    "for i in range(len(ticks)):\n",
    "    equity_txt.append(equity[i].text)\n",
    "equity_txt = np.array(equity_txt)\n",
    "#equity_txt"
   ]
  },
  {
   "cell_type": "code",
   "execution_count": null,
   "metadata": {},
   "outputs": [],
   "source": [
    "my_portfolio = pd.DataFrame({'Name':names_txt, 'Symbol':ticks_txt, 'Shares':shares_txt, 'Price':prices_txt, 'Average Cost':avg_txt, 'Total Return':returns_txt, 'Equity':equity_txt})\n",
    "my_portfolio"
   ]
  },
  {
   "cell_type": "code",
   "execution_count": null,
   "metadata": {},
   "outputs": [],
   "source": [
    "my_portfolio.info()"
   ]
  },
  {
   "cell_type": "markdown",
   "metadata": {},
   "source": [
    "## 2.) Data Cleaning"
   ]
  },
  {
   "cell_type": "code",
   "execution_count": null,
   "metadata": {},
   "outputs": [],
   "source": [
    "# Take out all dollar signs in data\n",
    "# Note: Running this a second time will create an error since the \n",
    "#       values would have already been converted to floats\n",
    "dollar_sign = ['Price', 'Average Cost', 'Total Return', 'Equity']\n",
    "for d in dollar_sign:\n",
    "    my_portfolio[d] = my_portfolio[d].str.replace(\",\", \"\")\n",
    "    my_portfolio[d] = my_portfolio[d].str.replace(\"$\", \"\")\n",
    "    my_portfolio[d] = pd.to_numeric(my_portfolio[d])"
   ]
  },
  {
   "cell_type": "code",
   "execution_count": null,
   "metadata": {},
   "outputs": [],
   "source": [
    "# Confirm that values needed has been converted to floats\n",
    "my_portfolio.info()"
   ]
  },
  {
   "cell_type": "code",
   "execution_count": null,
   "metadata": {},
   "outputs": [],
   "source": [
    "my_portfolio"
   ]
  },
  {
   "cell_type": "code",
   "execution_count": null,
   "metadata": {},
   "outputs": [],
   "source": [
    "# Convert any '.' to '-' in symbols\n",
    "#sym = my_portfolio['Symbol']\n",
    "tick_new = my_portfolio['Symbol'].str.replace(\".\", \"-\")"
   ]
  },
  {
   "cell_type": "code",
   "execution_count": null,
   "metadata": {},
   "outputs": [],
   "source": [
    "# Confirm that '.' has been replaced by '-' on symbol\n",
    "my_portfolio"
   ]
  },
  {
   "cell_type": "code",
   "execution_count": null,
   "metadata": {},
   "outputs": [],
   "source": [
    "# EXTRA DATA GATHERING HERE\n",
    "\n",
    "total_sum = (my_portfolio['Average Cost']*my_portfolio['Shares']).sum()\n",
    "weights = []\n",
    "for i in range(len(my_portfolio)):\n",
    "    weights.append(round((my_portfolio['Average Cost'][i]*my_portfolio['Shares'][i])/total_sum, 2))\n",
    "    \n",
    "my_portfolio = pd.DataFrame({'Name':names_txt, 'Symbol':tick_new, 'Shares':shares_txt, 'Price':prices_txt, 'Average Cost':avg_txt, 'Total Return':returns_txt, 'Equity':equity_txt, 'Weight':weights})\n",
    "my_portfolio"
   ]
  },
  {
   "cell_type": "code",
   "execution_count": null,
   "metadata": {},
   "outputs": [],
   "source": [
    "my_portfolio['Weight'].sum()\n",
    "my_portfolio.to_csv('portfolio.csv')"
   ]
  },
  {
   "cell_type": "markdown",
   "metadata": {},
   "source": [
    "## For manually obtained CSV"
   ]
  },
  {
   "cell_type": "code",
   "execution_count": null,
   "metadata": {},
   "outputs": [],
   "source": [
    "my_portfolio = pd.read_csv('hypothetical_portfolio.csv')\n",
    "my_portfolio"
   ]
  },
  {
   "cell_type": "code",
   "execution_count": null,
   "metadata": {},
   "outputs": [],
   "source": [
    "#dollar_sign = ['Average Cost', 'Total Return', 'Equity']\n",
    "#for d in dollar_sign:\n",
    "#    my_portfolio[d] = pd.to_numeric(my_portfolio[d])\n",
    "my_portfolio.info()"
   ]
  },
  {
   "cell_type": "code",
   "execution_count": null,
   "metadata": {},
   "outputs": [],
   "source": [
    "# Only run to download weights\n",
    "total_sum = (my_portfolio['Average Cost']*my_portfolio['Shares']).sum()\n",
    "weights = []\n",
    "for i in range(len(my_portfolio)):\n",
    "    weights.append(round((my_portfolio['Average Cost'][i]*my_portfolio['Shares'][i])/total_sum, 2))\n",
    "    \n",
    "#my_portfolio = pd.DataFrame({'Name':names_txt, 'Symbol':tick_new, 'Shares':shares_txt, 'Average Cost':avg_txt, 'Total Return':returns_txt, 'Equity':equity_txt, 'Weight':weights})\n",
    "weights = pd.DataFrame({'Weights': weights})\n",
    "weights.to_csv('weights.csv', index=False)\n"
   ]
  },
  {
   "cell_type": "markdown",
   "metadata": {},
   "source": [
    "## 3.) Data Collection (Historical Prices)"
   ]
  },
  {
   "cell_type": "code",
   "execution_count": null,
   "metadata": {},
   "outputs": [],
   "source": [
    "# Collect historical prices\n",
    "tickers = my_portfolio['Symbol']\n",
    "start_date = '2000-01-01'\n",
    "my_data = pd.DataFrame()\n",
    "for t in tickers:\n",
    "    my_data[t] = wb.DataReader(t, data_source='yahoo', start=start_date)['Adj Close']"
   ]
  },
  {
   "cell_type": "code",
   "execution_count": null,
   "metadata": {
    "scrolled": true
   },
   "outputs": [],
   "source": [
    "my_data = my_data.dropna()\n",
    "my_data.info()"
   ]
  },
  {
   "cell_type": "code",
   "execution_count": null,
   "metadata": {
    "scrolled": true
   },
   "outputs": [],
   "source": [
    "sec_returns = np.log(my_data/my_data.shift(1))\n",
    "sec_returns\n",
    "\n",
    "sec_returns.info()"
   ]
  },
  {
   "cell_type": "code",
   "execution_count": null,
   "metadata": {},
   "outputs": [],
   "source": [
    "sec_returns.head()"
   ]
  },
  {
   "cell_type": "code",
   "execution_count": null,
   "metadata": {},
   "outputs": [],
   "source": [
    "sec_returns.tail()"
   ]
  },
  {
   "cell_type": "markdown",
   "metadata": {},
   "source": [
    "## Data Analysis"
   ]
  },
  {
   "cell_type": "code",
   "execution_count": null,
   "metadata": {},
   "outputs": [],
   "source": [
    "sec_returns"
   ]
  },
  {
   "cell_type": "code",
   "execution_count": null,
   "metadata": {},
   "outputs": [],
   "source": [
    "for t in tickers:\n",
    "\n",
    "    \n",
    "    print(\"\")\n",
    "    print(\"#\",t)\n",
    "    print(\"DAILY\")\n",
    "    print(\"Daily Return:\", round(sec_returns[t].mean()*100, 4), \"%\")\n",
    "    print(\"Daily Risk:\", round(sec_returns[t].std()*100, 4), \"%\")\n",
    "\n",
    "    print(\"\")\n",
    "\n",
    "    print(\"ANNUAL\")\n",
    "    mean_return = round((sec_returns[t].mean()*250)*100, 4)\n",
    "    std_return = round((sec_returns[t].std()*250**.5)*100, 4)\n",
    "    print(\"Annual Return:\", mean_return, \"%\")\n",
    "    print(\"Annual Risk:\", std_return, \"%\")\n",
    "    \n",
    "\n",
    "    \n",
    "    "
   ]
  },
  {
   "cell_type": "code",
   "execution_count": null,
   "metadata": {
    "scrolled": true
   },
   "outputs": [],
   "source": [
    "sec_returns.idxmin() "
   ]
  },
  {
   "cell_type": "code",
   "execution_count": null,
   "metadata": {},
   "outputs": [],
   "source": [
    "sec_returns.idxmax()"
   ]
  },
  {
   "cell_type": "code",
   "execution_count": null,
   "metadata": {},
   "outputs": [],
   "source": [
    "# Covariance \n",
    "# Determines if there is a relationship between two stocks, whether they move together:\n",
    "# positively, negatively, or neutral \n",
    "return_cov = sec_returns.cov()\n",
    "return_cov"
   ]
  },
  {
   "cell_type": "code",
   "execution_count": null,
   "metadata": {},
   "outputs": [],
   "source": [
    "# Covariance \n",
    "# Determines if there is a relationship between two stocks, whether they move together:\n",
    "# positively, negatively, or neutral \n",
    "return_cov = sec_returns.cov()*250\n",
    "return_cov"
   ]
  },
  {
   "cell_type": "code",
   "execution_count": null,
   "metadata": {
    "scrolled": true
   },
   "outputs": [],
   "source": [
    "# Correlations\n",
    "# Determines how close the relationship are between two stocks\n",
    "return_corr = sec_returns.corr()\n",
    "return_corr"
   ]
  },
  {
   "cell_type": "code",
   "execution_count": null,
   "metadata": {},
   "outputs": [],
   "source": [
    "# Calculating Diversifiable and Non-Diversifiable\n",
    "\n",
    "# Portfolio variance\n",
    "pflio_var = np.dot(my_portfolio['Weight'].T, np.dot(sec_returns.cov()*250, my_portfolio['Weight']))\n",
    "print(\"Portfolio Variance\", pflio_var)\n",
    "\n",
    "# Portfolio volatility \n",
    "#pflio_vol = (np.dot(my_portfolio['Weight'].T, np.dot(sec_returns.cov()*250, my_portfolio['Weight'])))**.5\n",
    "#print(\"Portfolio Volatility:\", pflio_vol)\n",
    "\n",
    "# or...\n",
    "\n",
    "pflio_vol2 = np.sqrt(pflio_var)\n",
    "print(\"Portfolio Volatility:\", pflio_vol2)\n",
    "\n",
    "\n",
    "# Calculating variance annually for each tickers\n",
    "var_a = []\n",
    "for t in tickers:\n",
    "    var_a.append(sec_returns[t].var()*250)\n",
    "\n",
    "var_a = np.array(var_a)\n",
    "variances = pd.DataFrame({'Name':names_txt, 'Variance':var_a})\n",
    "print(\"\")\n",
    "# Diversifiable Risk\n",
    "# div_risk = pflio_var - my_portfolio['Weight'][0]**2*variances['Variance'][0] - ...\n",
    "#                  ... - my_portfolio['Weight'][n]**2*variances['Variance'][n]\n",
    "div_risk = 0   \n",
    "for i in range(len(my_portfolio)):\n",
    "    if i==0:\n",
    "        div_risk = pflio_var - my_portfolio['Weight'][0]**2*variances['Variance'][0]\n",
    "    else:\n",
    "        div_risk -= my_portfolio['Weight'][i]**2*variances['Variance'][i]\n",
    "print(\"Diversifiable Risk:\", div_risk)\n",
    "\n",
    "print(\"\")\n",
    "# Non Diversifiable Risk\n",
    "non_div_risk1 = pflio_var - div_risk\n",
    "print(\"Non-Diversifiable Risk:\", non_div_risk1)\n",
    "\n",
    "print(\"\")\n",
    "non_div_risk2 = 0\n",
    "for i in range(len(my_portfolio)):\n",
    "    non_div_risk2 += my_portfolio['Weight'][i]**2*variances['Variance'][i]\n",
    "    #print(my_portfolio['Name'][i], non_div_risk2)\n",
    "\n",
    "print(\"\")\n",
    "print(\"Non-Diversifiable Risk:\", non_div_risk2)\n",
    "print(\"Non-Diversifiable Risk:\", non_div_risk2 == non_div_risk1)\n",
    "\n",
    "\n",
    "##test = my_portfolio['Weight'].diff()\n",
    "#print(test)"
   ]
  },
  {
   "cell_type": "code",
   "execution_count": null,
   "metadata": {},
   "outputs": [],
   "source": [
    "# FOR THE MANUAL MODE\n",
    "# Calculating Diversifiable and Non-Diversifiable\n",
    "\n",
    "# Portfolio variance\n",
    "pflio_var = np.dot(my_portfolio['Weight'].T, np.dot(sec_returns.cov()*250, my_portfolio['Weight']))\n",
    "print(\"Portfolio Variance\", pflio_var)\n",
    "\n",
    "# Portfolio volatility \n",
    "pflio_vol = (np.dot(my_portfolio['Weight'].T, np.dot(sec_returns.cov()*250, my_portfolio['Weight'])))**.5\n",
    "print(\"Portfolio Volatility:\", pflio_vol)\n",
    "\n",
    "# Calculating variance annually for each tickers\n",
    "var_a = []\n",
    "for t in tickers:\n",
    "    var_a.append(sec_returns[t].var()*250)\n",
    "\n",
    "var_a = np.array(var_a)\n",
    "variances = pd.DataFrame({'Name':my_portfolio['Name'], 'Variance':var_a})\n",
    "\n",
    "# Diversifiable Risk\n",
    "# div_risk = pflio_var - my_portfolio['Weight'][0]**2*variances['Variance'][0] - ...\n",
    "#                  ... - my_portfolio['Weight'][n]**2*variances['Variance'][n]\n",
    "div_risk = 0   \n",
    "div_risk = pflio_var - my_portfolio['Weight'][0]**2*variances['Variance'][0]\n",
    "for i in range(len(my_portfolio)-1):\n",
    "    div_risk -= my_portfolio['Weight'][i+1]**2*variances['Variance'][i+1]\n",
    "    #print(my_portfolio['Name'][i], div_risk)\n",
    "div_risk = div_risk - my_portfolio['Weight'][len(my_portfolio)-1]**2*variances['Variance'][len(my_portfolio)-1]\n",
    "print(\"Diversifiable Risk:\", div_risk)\n",
    "\n",
    "# Non Diversifiable Risk\n",
    "non_div_risk1 = pflio_var - div_risk\n",
    "print(\"Non-Diversifiable Risk:\", non_div_risk1)\n",
    "\n",
    "non_div_risk2 = 0\n",
    "for i in range(len(my_portfolio)):\n",
    "    non_div_risk2 += my_portfolio['Weight'][i]**2*variances['Variance'][i]\n",
    "print(\"Non-Diversifiable Risk:\", non_div_risk2)\n",
    "print(\"Non-Diversifiable Risk:\", non_div_risk2 == non_div_risk1)\n",
    "\n",
    "\n",
    "##test = my_portfolio['Weight'].diff()\n",
    "#print(test)"
   ]
  },
  {
   "cell_type": "code",
   "execution_count": null,
   "metadata": {},
   "outputs": [],
   "source": [
    "no_assets = len(tickers)\n",
    "no_assets"
   ]
  },
  {
   "cell_type": "code",
   "execution_count": null,
   "metadata": {},
   "outputs": [],
   "source": [
    "pflio_ret = []\n",
    "pflio_vol = [] \n",
    "pflio_wei = []\n",
    "\n",
    "for x in range(10000):\n",
    "    weights = np.random.random(no_assets)\n",
    "    weights /= np.sum(weights)\n",
    "    \n",
    "    pflio_wei.append(weights)\n",
    "    pflio_ret.append(np.sum(weights*sec_returns.mean())*250)\n",
    "    pflio_vol.append(np.sqrt(np.dot(weights.T, np.dot(sec_returns.cov()*250, weights))))\n",
    "    #print(x, weights)\n",
    "\n",
    "pflio_wei = np.array(pflio_wei)\n",
    "pflio_ret = np.array(pflio_ret)\n",
    "pflio_vol = np.array(pflio_vol)\n",
    "\n",
    "#print(np.sum(weights))\n",
    "#pflio_returns, pflio_volatilities"
   ]
  },
  {
   "cell_type": "code",
   "execution_count": null,
   "metadata": {},
   "outputs": [],
   "source": [
    "pflio_scenarios = pd.DataFrame({'Return': pflio_ret, 'Volatility': pflio_vol})\n",
    "pflio_scenarios = pflio_scenarios.sort_values('Return', ascending=True)"
   ]
  },
  {
   "cell_type": "code",
   "execution_count": null,
   "metadata": {},
   "outputs": [],
   "source": [
    "pflio_scenarios.head()\n",
    "#pflio_scenarios['Return']"
   ]
  },
  {
   "cell_type": "code",
   "execution_count": null,
   "metadata": {},
   "outputs": [],
   "source": [
    "pflio_scenarios.tail(3500)"
   ]
  },
  {
   "cell_type": "code",
   "execution_count": null,
   "metadata": {},
   "outputs": [],
   "source": [
    "# Efficient Frontier \n",
    "pflio_scenarios.plot(x='Volatility', y='Return', kind='scatter', figsize=(10,6));\n",
    "plt.xlabel('Expected Volatility')\n",
    "plt.ylabel('Expected Return')\n",
    "eff_front = plt.savefig(\"efficient_frontier2.png\")"
   ]
  },
  {
   "cell_type": "code",
   "execution_count": null,
   "metadata": {},
   "outputs": [],
   "source": [
    "# For Testing purposes\n",
    "pfolio_wei2 = []\n",
    "tickers2 = []\n",
    "print(pflio_wei[19169])\n",
    "tickers2 = np.array(tickers)\n",
    "print(tickers2)\n",
    "print(np.sum(pflio_wei[19169]))\n",
    "pflio_wei2 = pflio_wei[19169]\n",
    "\n",
    "\n",
    "#ideal_portfolio = pd.DataFrame(columns=tickers2)\n",
    "#ideal_portfolio = pd.DataFrame({'Symbol': tickers2, 'Weights': pflio_wei2})\n",
    "ideal_portfolio = pd.DataFrame({'Weights': pflio_wei2})\n",
    "ideal_portfolio.to_csv('ideal_weights.csv', index=False)"
   ]
  },
  {
   "cell_type": "markdown",
   "metadata": {},
   "source": [
    "## Data Visualization"
   ]
  },
  {
   "cell_type": "code",
   "execution_count": null,
   "metadata": {},
   "outputs": [],
   "source": [
    "(my_data/my_data.iloc[0]*100).plot(figsize=(20,15))"
   ]
  },
  {
   "cell_type": "code",
   "execution_count": null,
   "metadata": {},
   "outputs": [],
   "source": [
    "sns.set_style('whitegrid')\n",
    "regression = sns.pairplot(sec_returns[1:], kind=\"reg\")\n",
    "regression = regression.savefig(\"regression.png\")\n",
    "regression"
   ]
  },
  {
   "cell_type": "code",
   "execution_count": null,
   "metadata": {},
   "outputs": [],
   "source": [
    "plt.subplots(figsize=(15, 15))\n",
    "heatmap = sns.heatmap(return_corr, annot=True, square=True, cmap='coolwarm')\n",
    "heatmap.savefig(\"heatmap.png\")\n",
    "heatmap\n",
    "#plt.show()"
   ]
  },
  {
   "cell_type": "code",
   "execution_count": null,
   "metadata": {},
   "outputs": [],
   "source": []
  },
  {
   "cell_type": "code",
   "execution_count": null,
   "metadata": {},
   "outputs": [],
   "source": []
  }
 ],
 "metadata": {
  "kernelspec": {
   "display_name": "Python 3",
   "language": "python",
   "name": "python3"
  },
  "language_info": {
   "codemirror_mode": {
    "name": "ipython",
    "version": 3
   },
   "file_extension": ".py",
   "mimetype": "text/x-python",
   "name": "python",
   "nbconvert_exporter": "python",
   "pygments_lexer": "ipython3",
   "version": "3.8.3"
  }
 },
 "nbformat": 4,
 "nbformat_minor": 4
}
