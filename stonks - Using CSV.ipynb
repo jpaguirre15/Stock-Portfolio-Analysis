{
 "cells": [
  {
   "cell_type": "markdown",
   "metadata": {},
   "source": [
    "## Analysis of Robinhood Portfolio (BeautifulSoup)"
   ]
  },
  {
   "cell_type": "markdown",
   "metadata": {},
   "source": [
    "Project by: Pete Aguirre II\n",
    "\n",
    "In this project, I will do a retuern:risk analysis on my current Robinhood stock portfolio with the help of multiple \n",
    "tools using:\n",
    "- Python 3\n",
    "- Jupyter Lab/Notebook\n",
    "- Beautiful Soup\n",
    "- Markowitz Efficent Frontier"
   ]
  },
  {
   "cell_type": "code",
   "execution_count": 1,
   "metadata": {},
   "outputs": [],
   "source": [
    "# Libraries Used \n",
    "import pandas as pd\n",
    "import numpy as np \n",
    "import matplotlib.pyplot as plt\n",
    "import seaborn as sns\n",
    "import sys\n",
    "\n",
    "import robin_stocks as r \n",
    "import pyotp\n",
    "import json\n",
    "\n",
    "from pandas_datareader import data as wb\n",
    "from bs4 import BeautifulSoup as soup\n",
    "\n",
    "\n",
    "# Magic\n",
    "%matplotlib inline"
   ]
  },
  {
   "cell_type": "markdown",
   "metadata": {},
   "source": [
    "## For manually obtained CSV"
   ]
  },
  {
   "cell_type": "code",
   "execution_count": null,
   "metadata": {},
   "outputs": [],
   "source": [
    "my_portfolio = pd.read_csv('hypothetical_portfolio.csv')\n",
    "my_portfolio"
   ]
  },
  {
   "cell_type": "code",
   "execution_count": null,
   "metadata": {},
   "outputs": [],
   "source": [
    "#dollar_sign = ['Average Cost', 'Total Return', 'Equity']\n",
    "#for d in dollar_sign:\n",
    "#    my_portfolio[d] = pd.to_numeric(my_portfolio[d])\n",
    "my_portfolio.info()"
   ]
  },
  {
   "cell_type": "code",
   "execution_count": null,
   "metadata": {},
   "outputs": [],
   "source": [
    "# Only run to download weights\n",
    "total_sum = (my_portfolio['Average Cost']*my_portfolio['Shares']).sum()\n",
    "weights = []\n",
    "for i in range(len(my_portfolio)):\n",
    "    weights.append(round((my_portfolio['Average Cost'][i]*my_portfolio['Shares'][i])/total_sum, 2))\n",
    "    \n",
    "#my_portfolio = pd.DataFrame({'Name':names_txt, 'Symbol':tick_new, 'Shares':shares_txt, 'Average Cost':avg_txt, 'Total Return':returns_txt, 'Equity':equity_txt, 'Weight':weights})\n",
    "weights = pd.DataFrame({'Weights': weights})\n",
    "weights.to_csv('weights.csv', index=False)\n"
   ]
  },
  {
   "cell_type": "markdown",
   "metadata": {},
   "source": [
    "## 3.) Data Collection (Historical Prices)"
   ]
  },
  {
   "cell_type": "code",
   "execution_count": null,
   "metadata": {},
   "outputs": [],
   "source": [
    "# Collect historical prices\n",
    "tickers = my_portfolio['Symbol']\n",
    "start_date = '2000-01-01'\n",
    "my_data = pd.DataFrame()\n",
    "for t in tickers:\n",
    "    my_data[t] = wb.DataReader(t, data_source='yahoo', start=start_date)['Adj Close']"
   ]
  },
  {
   "cell_type": "code",
   "execution_count": null,
   "metadata": {
    "scrolled": true
   },
   "outputs": [],
   "source": [
    "my_data = my_data.dropna()\n",
    "my_data.info()"
   ]
  },
  {
   "cell_type": "code",
   "execution_count": null,
   "metadata": {
    "scrolled": true
   },
   "outputs": [],
   "source": [
    "sec_returns = np.log(my_data/my_data.shift(1))\n",
    "sec_returns\n",
    "\n",
    "sec_returns.info()"
   ]
  },
  {
   "cell_type": "code",
   "execution_count": null,
   "metadata": {},
   "outputs": [],
   "source": [
    "sec_returns.head()"
   ]
  },
  {
   "cell_type": "code",
   "execution_count": null,
   "metadata": {},
   "outputs": [],
   "source": [
    "sec_returns.tail()"
   ]
  },
  {
   "cell_type": "markdown",
   "metadata": {},
   "source": [
    "## Data Analysis"
   ]
  },
  {
   "cell_type": "code",
   "execution_count": null,
   "metadata": {},
   "outputs": [],
   "source": [
    "sec_returns"
   ]
  },
  {
   "cell_type": "code",
   "execution_count": null,
   "metadata": {},
   "outputs": [],
   "source": [
    "for t in tickers:\n",
    "\n",
    "    \n",
    "    print(\"\")\n",
    "    print(\"#\",t)\n",
    "    print(\"DAILY\")\n",
    "    print(\"Daily Return:\", round(sec_returns[t].mean()*100, 4), \"%\")\n",
    "    print(\"Daily Risk:\", round(sec_returns[t].std()*100, 4), \"%\")\n",
    "\n",
    "    print(\"\")\n",
    "\n",
    "    print(\"ANNUAL\")\n",
    "    mean_return = round((sec_returns[t].mean()*250)*100, 4)\n",
    "    std_return = round((sec_returns[t].std()*250**.5)*100, 4)\n",
    "    print(\"Annual Return:\", mean_return, \"%\")\n",
    "    print(\"Annual Risk:\", std_return, \"%\")\n",
    "    \n",
    "\n",
    "    \n",
    "    "
   ]
  },
  {
   "cell_type": "code",
   "execution_count": null,
   "metadata": {
    "scrolled": true
   },
   "outputs": [],
   "source": [
    "sec_returns.idxmin() "
   ]
  },
  {
   "cell_type": "code",
   "execution_count": null,
   "metadata": {},
   "outputs": [],
   "source": [
    "sec_returns.idxmax()"
   ]
  },
  {
   "cell_type": "code",
   "execution_count": null,
   "metadata": {},
   "outputs": [],
   "source": [
    "# Covariance \n",
    "# Determines if there is a relationship between two stocks, whether they move together:\n",
    "# positively, negatively, or neutral \n",
    "return_cov = sec_returns.cov()\n",
    "return_cov"
   ]
  },
  {
   "cell_type": "code",
   "execution_count": null,
   "metadata": {},
   "outputs": [],
   "source": [
    "# Covariance \n",
    "# Determines if there is a relationship between two stocks, whether they move together:\n",
    "# positively, negatively, or neutral \n",
    "return_cov = sec_returns.cov()*250\n",
    "return_cov"
   ]
  },
  {
   "cell_type": "code",
   "execution_count": null,
   "metadata": {
    "scrolled": true
   },
   "outputs": [],
   "source": [
    "# Correlations\n",
    "# Determines how close the relationship are between two stocks\n",
    "return_corr = sec_returns.corr()\n",
    "return_corr"
   ]
  },
  {
   "cell_type": "code",
   "execution_count": null,
   "metadata": {},
   "outputs": [],
   "source": [
    "# Calculating Diversifiable and Non-Diversifiable\n",
    "\n",
    "# Portfolio variance\n",
    "pflio_var = np.dot(my_portfolio['Weight'].T, np.dot(sec_returns.cov()*250, my_portfolio['Weight']))\n",
    "print(\"Portfolio Variance\", pflio_var)\n",
    "\n",
    "# Portfolio volatility \n",
    "#pflio_vol = (np.dot(my_portfolio['Weight'].T, np.dot(sec_returns.cov()*250, my_portfolio['Weight'])))**.5\n",
    "#print(\"Portfolio Volatility:\", pflio_vol)\n",
    "\n",
    "# or...\n",
    "\n",
    "pflio_vol2 = np.sqrt(pflio_var)\n",
    "print(\"Portfolio Volatility:\", pflio_vol2)\n",
    "\n",
    "\n",
    "# Calculating variance annually for each tickers\n",
    "var_a = []\n",
    "for t in tickers:\n",
    "    var_a.append(sec_returns[t].var()*250)\n",
    "\n",
    "var_a = np.array(var_a)\n",
    "variances = pd.DataFrame({'Name':names_txt, 'Variance':var_a})\n",
    "print(\"\")\n",
    "# Diversifiable Risk\n",
    "# div_risk = pflio_var - my_portfolio['Weight'][0]**2*variances['Variance'][0] - ...\n",
    "#                  ... - my_portfolio['Weight'][n]**2*variances['Variance'][n]\n",
    "div_risk = 0   \n",
    "for i in range(len(my_portfolio)):\n",
    "    if i==0:\n",
    "        div_risk = pflio_var - my_portfolio['Weight'][0]**2*variances['Variance'][0]\n",
    "    else:\n",
    "        div_risk -= my_portfolio['Weight'][i]**2*variances['Variance'][i]\n",
    "print(\"Diversifiable Risk:\", div_risk)\n",
    "\n",
    "print(\"\")\n",
    "# Non Diversifiable Risk\n",
    "non_div_risk1 = pflio_var - div_risk\n",
    "print(\"Non-Diversifiable Risk:\", non_div_risk1)\n",
    "\n",
    "print(\"\")\n",
    "non_div_risk2 = 0\n",
    "for i in range(len(my_portfolio)):\n",
    "    non_div_risk2 += my_portfolio['Weight'][i]**2*variances['Variance'][i]\n",
    "    #print(my_portfolio['Name'][i], non_div_risk2)\n",
    "\n",
    "print(\"\")\n",
    "print(\"Non-Diversifiable Risk:\", non_div_risk2)\n",
    "print(\"Non-Diversifiable Risk:\", non_div_risk2 == non_div_risk1)\n",
    "\n",
    "\n",
    "##test = my_portfolio['Weight'].diff()\n",
    "#print(test)"
   ]
  },
  {
   "cell_type": "code",
   "execution_count": null,
   "metadata": {},
   "outputs": [],
   "source": [
    "# FOR THE MANUAL MODE\n",
    "# Calculating Diversifiable and Non-Diversifiable\n",
    "\n",
    "# Portfolio variance\n",
    "pflio_var = np.dot(my_portfolio['Weight'].T, np.dot(sec_returns.cov()*250, my_portfolio['Weight']))\n",
    "print(\"Portfolio Variance\", pflio_var)\n",
    "\n",
    "# Portfolio volatility \n",
    "pflio_vol = (np.dot(my_portfolio['Weight'].T, np.dot(sec_returns.cov()*250, my_portfolio['Weight'])))**.5\n",
    "print(\"Portfolio Volatility:\", pflio_vol)\n",
    "\n",
    "# Calculating variance annually for each tickers\n",
    "var_a = []\n",
    "for t in tickers:\n",
    "    var_a.append(sec_returns[t].var()*250)\n",
    "\n",
    "var_a = np.array(var_a)\n",
    "variances = pd.DataFrame({'Name':my_portfolio['Name'], 'Variance':var_a})\n",
    "\n",
    "# Diversifiable Risk\n",
    "# div_risk = pflio_var - my_portfolio['Weight'][0]**2*variances['Variance'][0] - ...\n",
    "#                  ... - my_portfolio['Weight'][n]**2*variances['Variance'][n]\n",
    "div_risk = 0   \n",
    "div_risk = pflio_var - my_portfolio['Weight'][0]**2*variances['Variance'][0]\n",
    "for i in range(len(my_portfolio)-1):\n",
    "    div_risk -= my_portfolio['Weight'][i+1]**2*variances['Variance'][i+1]\n",
    "    #print(my_portfolio['Name'][i], div_risk)\n",
    "div_risk = div_risk - my_portfolio['Weight'][len(my_portfolio)-1]**2*variances['Variance'][len(my_portfolio)-1]\n",
    "print(\"Diversifiable Risk:\", div_risk)\n",
    "\n",
    "# Non Diversifiable Risk\n",
    "non_div_risk1 = pflio_var - div_risk\n",
    "print(\"Non-Diversifiable Risk:\", non_div_risk1)\n",
    "\n",
    "non_div_risk2 = 0\n",
    "for i in range(len(my_portfolio)):\n",
    "    non_div_risk2 += my_portfolio['Weight'][i]**2*variances['Variance'][i]\n",
    "print(\"Non-Diversifiable Risk:\", non_div_risk2)\n",
    "print(\"Non-Diversifiable Risk:\", non_div_risk2 == non_div_risk1)\n",
    "\n",
    "\n",
    "##test = my_portfolio['Weight'].diff()\n",
    "#print(test)"
   ]
  },
  {
   "cell_type": "code",
   "execution_count": null,
   "metadata": {},
   "outputs": [],
   "source": [
    "no_assets = len(tickers)\n",
    "no_assets"
   ]
  },
  {
   "cell_type": "code",
   "execution_count": null,
   "metadata": {},
   "outputs": [],
   "source": [
    "pflio_ret = []\n",
    "pflio_vol = [] \n",
    "pflio_wei = []\n",
    "\n",
    "for x in range(10000):\n",
    "    weights = np.random.random(no_assets)\n",
    "    weights /= np.sum(weights)\n",
    "    \n",
    "    pflio_wei.append(weights)\n",
    "    pflio_ret.append(np.sum(weights*sec_returns.mean())*250)\n",
    "    pflio_vol.append(np.sqrt(np.dot(weights.T, np.dot(sec_returns.cov()*250, weights))))\n",
    "    #print(x, weights)\n",
    "\n",
    "pflio_wei = np.array(pflio_wei)\n",
    "pflio_ret = np.array(pflio_ret)\n",
    "pflio_vol = np.array(pflio_vol)\n",
    "\n",
    "#print(np.sum(weights))\n",
    "#pflio_returns, pflio_volatilities"
   ]
  },
  {
   "cell_type": "code",
   "execution_count": null,
   "metadata": {},
   "outputs": [],
   "source": [
    "pflio_scenarios = pd.DataFrame({'Return': pflio_ret, 'Volatility': pflio_vol})\n",
    "pflio_scenarios = pflio_scenarios.sort_values('Return', ascending=True)"
   ]
  },
  {
   "cell_type": "code",
   "execution_count": null,
   "metadata": {},
   "outputs": [],
   "source": [
    "pflio_scenarios.head()\n",
    "#pflio_scenarios['Return']"
   ]
  },
  {
   "cell_type": "code",
   "execution_count": null,
   "metadata": {},
   "outputs": [],
   "source": [
    "pflio_scenarios.tail(3500)"
   ]
  },
  {
   "cell_type": "code",
   "execution_count": null,
   "metadata": {},
   "outputs": [],
   "source": [
    "# Efficient Frontier \n",
    "pflio_scenarios.plot(x='Volatility', y='Return', kind='scatter', figsize=(10,6));\n",
    "plt.xlabel('Expected Volatility')\n",
    "plt.ylabel('Expected Return')\n",
    "eff_front = plt.savefig(\"efficient_frontier2.png\")"
   ]
  },
  {
   "cell_type": "code",
   "execution_count": null,
   "metadata": {},
   "outputs": [],
   "source": [
    "# For Testing purposes\n",
    "pfolio_wei2 = []\n",
    "tickers2 = []\n",
    "#print(pflio_wei[3273])\n",
    "tickers2 = np.array(tickers)\n",
    "#print(tickers2)\n",
    "#print(np.sum(pflio_wei[3273]))\n",
    "pflio_wei2 = pflio_wei[3273]\n",
    "\n",
    "\n",
    "#ideal_portfolio = pd.DataFrame(columns=tickers2)\n",
    "#ideal_portfolio = pd.DataFrame({'Symbol': tickers2, 'Weights': pflio_wei2})\n",
    "ideal_portfolio = pd.DataFrame({'Weights': pflio_wei2})\n",
    "ideal_portfolio = pd.concat([symbols, ideal_portfolio], axis=1)\n",
    "ideal_portfolio.to_csv('ideal_weights.csv', index=False)\n",
    "ideal_portfolio"
   ]
  },
  {
   "cell_type": "markdown",
   "metadata": {},
   "source": [
    "## Data Visualization"
   ]
  },
  {
   "cell_type": "code",
   "execution_count": null,
   "metadata": {},
   "outputs": [],
   "source": [
    "(my_data/my_data.iloc[0]*100).plot(figsize=(20,15))"
   ]
  },
  {
   "cell_type": "code",
   "execution_count": null,
   "metadata": {},
   "outputs": [],
   "source": [
    "sns.set_style('whitegrid')\n",
    "regression = sns.pairplot(sec_returns[1:], kind=\"reg\")\n",
    "regression = regression.savefig(\"regression.png\")\n",
    "regression"
   ]
  },
  {
   "cell_type": "code",
   "execution_count": null,
   "metadata": {},
   "outputs": [],
   "source": [
    "plt.subplots(figsize=(15, 15))\n",
    "heatmap = sns.heatmap(return_corr, annot=True, square=True, cmap='coolwarm')\n",
    "heatmap.savefig(\"heatmap.png\")\n",
    "heatmap\n",
    "#plt.show()"
   ]
  }
 ],
 "metadata": {
  "kernelspec": {
   "display_name": "Python 3",
   "language": "python",
   "name": "python3"
  },
  "language_info": {
   "codemirror_mode": {
    "name": "ipython",
    "version": 3
   },
   "file_extension": ".py",
   "mimetype": "text/x-python",
   "name": "python",
   "nbconvert_exporter": "python",
   "pygments_lexer": "ipython3",
   "version": "3.7.3"
  }
 },
 "nbformat": 4,
 "nbformat_minor": 4
}
